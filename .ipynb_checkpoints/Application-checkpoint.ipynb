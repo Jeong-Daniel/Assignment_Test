{
 "cells": [
  {
   "cell_type": "markdown",
   "id": "1176b511",
   "metadata": {},
   "source": [
    "## 뷰메진 Assignment Test\n",
    "\n",
    "\n",
    "**핵심 요소**\n",
    "1. Segmentation backbone network에 대한 이해\n",
    "2. Pipeline 구축\n",
    "   data loader → train/validation → test(+evaluation)\n",
    "3. 문제 해결 능력\n",
    "4. GitHub을 이용한 코드 관리\n",
    "\n",
    "**추가 요소**\n",
    "1. 코딩 스타일\n",
    "    1. Class\n",
    "    2. Module\n",
    "2. 창의적 아이디어\n",
    "    1. crack segmentation : 오픈 소스 분할 모델 수정하여 crack 검출 성능을 높이기 위한 아이디어\n",
    "    2. crack measurement : crack 길이와 폭을 측정하는 방법에 대한 아이디어\n",
    "    3. augmentation : 학습 성능을 높이기 위해 다양한 아이디어\n",
    "\n",
    "### 0. 라이브러리 호출 & 데이터 경로 지정하기"
   ]
  },
  {
   "cell_type": "code",
   "execution_count": 1,
   "id": "168b8e2c",
   "metadata": {},
   "outputs": [],
   "source": [
    "import pandas as pd\n",
    "import numpy as np\n",
    "import matplotlib.pyplot as plt\n",
    "%matplotlib inline\n",
    "import random, tqdm\n",
    "import os, cv2\n",
    "import math\n",
    "from glob import glob\n",
    "#import gc\n",
    "#gc.enable()\n",
    "import warnings\n",
    "warnings.filterwarnings(\"ignore\")\n",
    "import albumentations as album\n",
    "\n",
    "#imshow을 사용할때 커널이 죽을 경우 사용\n",
    "os.environ['KMP_DUPLICATE_LIB_OK']='True'"
   ]
  },
  {
   "cell_type": "code",
   "execution_count": 2,
   "id": "517f42c2",
   "metadata": {},
   "outputs": [],
   "source": [
    "DATA_DIR = './mini_crack_segmentation_dataset/'\n",
    "\n",
    "x_train_dir = os.path.join(DATA_DIR, 'train/input')\n",
    "y_train_dir = os.path.join(DATA_DIR, 'train/output')\n",
    "\n",
    "x_valid_dir = os.path.join(DATA_DIR, 'val/input')\n",
    "y_valid_dir = os.path.join(DATA_DIR, 'val/output')\n",
    "\n",
    "x_test_dir = os.path.join(DATA_DIR, 'test/input')\n",
    "y_test_dir = os.path.join(DATA_DIR, 'test/output')"
   ]
  },
  {
   "cell_type": "code",
   "execution_count": 4,
   "id": "714dd831",
   "metadata": {},
   "outputs": [
    {
     "name": "stdout",
     "output_type": "stream",
     "text": [
      "Class Names:  ['background', 'crack']\n",
      "Class RGB values:  [[0, 0, 0], [255, 255, 255]]\n"
     ]
    }
   ],
   "source": [
    "#배경은 검은색, 크랙은 흰색 (RGB기준)\n",
    "class_names = ['background', 'crack']\n",
    "class_rgb_values = [[0, 0, 0], [255, 255, 255]]\n",
    "\n",
    "print('Class Names: ', class_names)\n",
    "print('Class RGB values: ', class_rgb_values)"
   ]
  },
  {
   "cell_type": "markdown",
   "id": "f309efa5",
   "metadata": {},
   "source": [
    "### 1. 시각화 함수 설정"
   ]
  },
  {
   "cell_type": "code",
   "execution_count": 5,
   "id": "7d9bf27a",
   "metadata": {},
   "outputs": [],
   "source": [
    "def visualize(**images):\n",
    "    \"\"\"\n",
    "    이미지는 한줄에 표시\n",
    "    \"\"\"\n",
    "    n_images = len(images)\n",
    "    plt.figure(figsize=(20,8))\n",
    "    for idx, (name, image) in enumerate(images.items()):\n",
    "        plt.subplot(1, n_images, idx + 1)\n",
    "        plt.xticks([]); \n",
    "        plt.yticks([])\n",
    "        plt.title(name.replace('_',' ').title(), fontsize=20)\n",
    "        plt.imshow(image)\n",
    "    plt.show()\n",
    "\n",
    "# Perform one hot encoding on label\n",
    "def one_hot_encode(label, label_values):\n",
    "    \"\"\"\n",
    "    Convert a segmentation image label array to one-hot format\n",
    "    by replacing each pixel value with a vector of length num_classes\n",
    "    # Arguments\n",
    "        label: The 2D array segmentation image label\n",
    "        label_values\n",
    "        \n",
    "    # Returns\n",
    "        A 2D array with the same width and hieght as the input, but\n",
    "        with a depth size of num_classes\n",
    "    \"\"\"\n",
    "    semantic_map = []\n",
    "    for colour in label_values:\n",
    "        equality = np.equal(label, colour)\n",
    "        class_map = np.all(equality, axis = -1)\n",
    "        semantic_map.append(class_map)\n",
    "    semantic_map = np.stack(semantic_map, axis=-1)\n",
    "\n",
    "    return semantic_map\n",
    "    \n",
    "# Perform reverse one-hot-encoding on labels / preds\n",
    "def reverse_one_hot(image):\n",
    "    \"\"\"\n",
    "    Transform a 2D array in one-hot format (depth is num_classes),\n",
    "    to a 2D array with only 1 channel, where each pixel value is\n",
    "    the classified class key.\n",
    "    # Arguments\n",
    "        image: The one-hot format image \n",
    "        \n",
    "    # Returns\n",
    "        A 2D array with the same width and hieght as the input, but\n",
    "        with a depth size of 1, where each pixel value is the classified \n",
    "        class key.\n",
    "    \"\"\"\n",
    "    x = np.argmax(image, axis = -1)\n",
    "    return x\n",
    "\n",
    "# Perform colour coding on the reverse-one-hot outputs\n",
    "def colour_code_segmentation(image, label_values):\n",
    "    \"\"\"\n",
    "    Given a 1-channel array of class keys, colour code the segmentation results.\n",
    "    # Arguments\n",
    "        image: single channel array where each value represents the class key.\n",
    "        label_values\n",
    "\n",
    "    # Returns\n",
    "        Colour coded image for segmentation visualization\n",
    "    \"\"\"\n",
    "    colour_codes = np.array(label_values)\n",
    "    x = colour_codes[image.astype(int)]\n",
    "\n",
    "    return x"
   ]
  },
  {
   "cell_type": "markdown",
   "id": "0eb4cd5e",
   "metadata": {},
   "source": [
    "**[Question]**\n",
    "\n",
    "1) 제안한 모델(들)을 사용한 이유와 근거를 간략히 적어주세요.\n",
    "\n",
    "\n",
    "2) 성능을 향상시키기 위해 노력했다면, 그 내용과 근거를 간략히 적어주세요.\n",
    "\n",
    "\n",
    "3) 결과에 대한 본인의 해석을 간략히 적어주세요.\n",
    "\n",
    "\n",
    "4) 만약 시간이 더 주어진다면 가장 시도해보고 싶은 것을 하나 제시하고 그 이유에 대해서 간략히 적어주세요.\n"
   ]
  },
  {
   "cell_type": "code",
   "execution_count": null,
   "id": "64adbd6c",
   "metadata": {},
   "outputs": [],
   "source": []
  }
 ],
 "metadata": {
  "kernelspec": {
   "display_name": "Python 3 (ipykernel)",
   "language": "python",
   "name": "python3"
  },
  "language_info": {
   "codemirror_mode": {
    "name": "ipython",
    "version": 3
   },
   "file_extension": ".py",
   "mimetype": "text/x-python",
   "name": "python",
   "nbconvert_exporter": "python",
   "pygments_lexer": "ipython3",
   "version": "3.9.12"
  }
 },
 "nbformat": 4,
 "nbformat_minor": 5
}
