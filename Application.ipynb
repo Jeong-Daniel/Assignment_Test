{
 "cells": [
  {
   "cell_type": "markdown",
   "id": "1176b511",
   "metadata": {},
   "source": [
    "## 뷰메진 Assignment Test\n",
    "\n",
    "\n",
    "**핵심 요소**\n",
    "1. Segmentation backbone network에 대한 이해\n",
    "2. Pipeline 구축\n",
    "   data loader → train/validation → test(+evaluation)\n",
    "3. 문제 해결 능력\n",
    "4. GitHub을 이용한 코드 관리\n",
    "\n",
    "**추가 요소**\n",
    "1. 코딩 스타일\n",
    "    1. Class\n",
    "    2. Module\n",
    "2. 창의적 아이디어\n",
    "    1. crack segmentation : 오픈 소스 분할 모델 수정하여 crack 검출 성능을 높이기 위한 아이디어\n",
    "    2. crack measurement : crack 길이와 폭을 측정하는 방법에 대한 아이디어\n",
    "    3. augmentation : 학습 성능을 높이기 위해 다양한 아이디어\n",
    "\n",
    "### 0. 라이브러리 호출 & 데이터 불러오기"
   ]
  },
  {
   "cell_type": "code",
   "execution_count": 1,
   "id": "168b8e2c",
   "metadata": {},
   "outputs": [],
   "source": [
    "import pandas as pd\n",
    "import numpy as np\n",
    "import matplotlib.pyplot as plt\n",
    "%matplotlib inline\n",
    "import numpy as np\n",
    "import random\n",
    "import os\n",
    "import math\n",
    "from glob import glob\n",
    "import pandas as pd\n",
    "import cv2"
   ]
  },
  {
   "cell_type": "markdown",
   "id": "90bc0761",
   "metadata": {},
   "source": [
    "### 1. 훈련/테스트 데이터 로드 함수"
   ]
  },
  {
   "cell_type": "code",
   "execution_count": 28,
   "id": "11ad12ab",
   "metadata": {},
   "outputs": [],
   "source": [
    "def get_train_data(data_dir):\n",
    "    input_path_list = []\n",
    "    out_path_list = []\n",
    "    # 경로를 담을 빈 리스트 생성\n",
    "    for case_name in os.listdir(data_dir):\n",
    "        current_path = os.path.join(data_dir, case_name)\n",
    "        if os.path.isdir(current_path):\n",
    "            if case_name == 'input':\n",
    "                # get input path\n",
    "                input_path_list.extend(glob(os.path.join(current_path, '*.jpg')))\n",
    "                input_path_list.extend(glob(os.path.join(current_path, '*.png')))\n",
    "            elif case_name == 'output':\n",
    "                # get output path\n",
    "                out_path_list.extend(glob(os.path.join(current_path, '*.jpg')))\n",
    "                out_path_list.extend(glob(os.path.join(current_path, '*.png')))\n",
    "    return input_path_list, out_path_list\n",
    "    # 데이터를 분리해서 반환"
   ]
  },
  {
   "cell_type": "code",
   "execution_count": 29,
   "id": "44676a27",
   "metadata": {},
   "outputs": [],
   "source": [
    "train_input_path, train_output_path = get_train_data('./mini_crack_segmentation_dataset/train')"
   ]
  },
  {
   "cell_type": "code",
   "execution_count": null,
   "id": "df3eb5db",
   "metadata": {},
   "outputs": [],
   "source": []
  }
 ],
 "metadata": {
  "kernelspec": {
   "display_name": "Python 3 (ipykernel)",
   "language": "python",
   "name": "python3"
  },
  "language_info": {
   "codemirror_mode": {
    "name": "ipython",
    "version": 3
   },
   "file_extension": ".py",
   "mimetype": "text/x-python",
   "name": "python",
   "nbconvert_exporter": "python",
   "pygments_lexer": "ipython3",
   "version": "3.9.12"
  }
 },
 "nbformat": 4,
 "nbformat_minor": 5
}
